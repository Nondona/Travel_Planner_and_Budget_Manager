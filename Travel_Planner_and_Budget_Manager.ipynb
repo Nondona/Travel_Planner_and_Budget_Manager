{
  "nbformat": 4,
  "nbformat_minor": 0,
  "metadata": {
    "colab": {
      "provenance": []
    },
    "kernelspec": {
      "name": "python3",
      "display_name": "Python 3"
    },
    "language_info": {
      "name": "python"
    }
  },
  "cells": [
    {
      "cell_type": "code",
      "source": [
        "from google.colab import drive\n",
        "drive.mount('/content/drive')"
      ],
      "metadata": {
        "id": "JcjkGjG5lpHd",
        "colab": {
          "base_uri": "https://localhost:8080/"
        },
        "outputId": "7f23d32a-30b1-451b-e458-481b8225350d"
      },
      "execution_count": null,
      "outputs": [
        {
          "output_type": "stream",
          "name": "stdout",
          "text": [
            "Drive already mounted at /content/drive; to attempt to forcibly remount, call drive.mount(\"/content/drive\", force_remount=True).\n"
          ]
        }
      ]
    },
    {
      "cell_type": "markdown",
      "source": [
        "1.Trip Planner"
      ],
      "metadata": {
        "id": "cx-AJgSAm0RS"
      }
    },
    {
      "cell_type": "code",
      "source": [
        "import pandas as pd"
      ],
      "metadata": {
        "id": "cbSLmo0Xm1x8"
      },
      "execution_count": null,
      "outputs": []
    },
    {
      "cell_type": "code",
      "source": [
        "path=\"/content/drive/MyDrive/Dataset/1_Travel_Planner_and_Budget_Manager.csv\"\n",
        "df=pd.read_csv(path)"
      ],
      "metadata": {
        "id": "Oj95shSCm9Qq"
      },
      "execution_count": null,
      "outputs": []
    },
    {
      "cell_type": "code",
      "source": [
        "import pandas as pd\n",
        "from google.colab import drive\n",
        "drive.mount('/content/drive')\n",
        "def add_trip(df, path):\n",
        "  destination = input(\"Enter destination: \")\n",
        "  start_date = input(\"Enter start date (YYYY-MM-DD): \")\n",
        "  end_date = input(\"Enter end date (YYYY-MM-DD): \")\n",
        "  activities = input(\"Enter activities (comma-separated): \")\n",
        "  accommodation = input(\"Enter accommodation: \")\n",
        "  transport = input(\"Enter transport: \")\n",
        "\n",
        "  new_trip = pd.DataFrame({\n",
        "      'Destination': [destination],\n",
        "      'Start Date': [start_date],\n",
        "      'End Date': [end_date],\n",
        "      'Activities': [activities],\n",
        "      'Accommodation': [accommodation],\n",
        "      'Transport': [transport]\n",
        "  })\n",
        "\n",
        "  df = pd.concat([df, new_trip], ignore_index=True)\n",
        "  df.to_csv(path, index=False)\n",
        "  print(\"Trip added successfully!\")\n",
        "  return df\n",
        "\n",
        "def display_trips(df):\n",
        "  if df.empty:\n",
        "    print(\"No trips planned yet.\")\n",
        "  else:\n",
        "    print(df)\n",
        "    path=\"/content/drive/MyDrive/Dataset/1_Travel_Planner_and_Budget_Manager.csv\"\n",
        "\n",
        "try:\n",
        "  df = pd.read_csv(path)\n",
        "except FileNotFoundError:\n",
        "  df = pd.DataFrame(columns=['Destination', 'Start Date', 'End Date', 'Activities', 'Accommodation', 'Transport'])\n",
        "  while True:\n",
        "    # The following lines were not indented properly, causing the IndentationError.\n",
        "    # They need to be indented to be considered part of the while loop.\n",
        "    print(\"\\nTravel Itinerary Manager\")\n",
        "    print(\"1. Add a new trip\")\n",
        "    print(\"2. Display planned trips\")\n",
        "    print(\"3. Exit\")\n",
        "\n",
        "    choice = input(\"Enter your choice: \")\n",
        "\n",
        "    if choice == '1':\n",
        "      df = add_trip(df, path)\n",
        "    elif choice == '2':\n",
        "      display_trips(df)\n",
        "    elif choice == '3':\n",
        "      break\n",
        "    else:\n",
        "      print(\"Invalid choice. Please try again.\")"
      ],
      "metadata": {
        "colab": {
          "base_uri": "https://localhost:8080/"
        },
        "id": "E_Lniab6phHP",
        "outputId": "184bd3b9-49e5-44a3-f1ec-8a199e27befa"
      },
      "execution_count": null,
      "outputs": [
        {
          "output_type": "stream",
          "name": "stdout",
          "text": [
            "Drive already mounted at /content/drive; to attempt to forcibly remount, call drive.mount(\"/content/drive\", force_remount=True).\n"
          ]
        }
      ]
    },
    {
      "cell_type": "markdown",
      "source": [
        "2.Budget Calculator"
      ],
      "metadata": {
        "id": "gXP2-ylSp4Mi"
      }
    },
    {
      "cell_type": "code",
      "source": [
        "\n",
        "def get_travel_expenses():\n",
        "  \"\"\"Gets user input for travel expenses in different categories.\"\"\"\n",
        "\n",
        "  expenses = {}\n",
        "  categories = [\"Transport\", \"Accommodation\", \"Food\", \"Activities\", \"Miscellaneous\"]\n",
        "\n",
        "  for category in categories:\n",
        "    while True:\n",
        "      try:\n",
        "        expense = float(input(f\"Enter expense for {category}: \"))\n",
        "        expenses[category] = expense\n",
        "        break\n",
        "      except ValueError:\n",
        "        print(\"Invalid input. Please enter a number.\")\n",
        "\n",
        "  return expenses\n",
        "\n",
        "def calculate_travel_budget():\n",
        "  \"\"\"Calculates the total estimated cost and compares it with a user-defined budget.\"\"\"\n",
        "\n",
        "  expenses = get_travel_expenses()\n",
        "  total_cost = sum(expenses.values())\n",
        "\n",
        "  budget = float(input(\"Enter your budget: \"))\n",
        "\n",
        "  print(f\"\\nTotal estimated cost: ${total_cost:.2f}\")\n",
        "  print(f\"Your budget: ${budget:.2f}\")\n",
        "\n",
        "  if total_cost > budget:\n",
        "    print(\"\\nExpenses exceed budget by ${:.2f}\".format(total_cost - budget))\n",
        "  else:\n",
        "    print(\"\\nExpenses are within budget.\")"
      ],
      "metadata": {
        "id": "uV99rQJQ0Jqh"
      },
      "execution_count": null,
      "outputs": []
    },
    {
      "cell_type": "markdown",
      "source": [
        "3.Destination Suggestions"
      ],
      "metadata": {
        "id": "vAoshBI83RXr"
      }
    },
    {
      "cell_type": "code",
      "source": [
        "def get_user_preferences():\n",
        "  \"\"\"Gets user preferences for destination recommendations.\"\"\"\n",
        "\n",
        "  budget = float(input(\"Enter your budget: \"))\n",
        "  activities = input(\"Enter preferred activities (comma-separated): \")\n",
        "  travel_season = input(\"Enter preferred travel season: \")\n",
        "\n",
        "  return budget, activities, travel_season\n",
        "\n",
        "def recommend_destinations(budget, activities, travel_season):\n",
        "  \"\"\"Recommends destinations based on user preferences and a predefined list.\"\"\"\n",
        "\n",
        "  destinations = {\n",
        "      \"Paris\": {\"cost\": 1500, \"activities\": [\"sightseeing\", \"museums\", \"shopping\"], \"season\": \"spring\"},\n",
        "      \"Tokyo\": {\"cost\": 1200, \"activities\": [\"culture\", \"food\", \"technology\"], \"season\": \"autumn\"},\n",
        "      \"Bali\": {\"cost\": 800, \"activities\": [\"beaches\", \"relaxation\", \"temples\"], \"season\": \"summer\"},\n",
        "      \"New York City\": {\"cost\": 2000, \"activities\": [\"entertainment\", \"shopping\", \"food\"], \"season\": \"any\"},\n",
        "      # Add more destinations here\n",
        "  }\n",
        "\n",
        "  recommendations = []\n",
        "  for destination, details in destinations.items():\n",
        "    if details[\"cost\"] <= budget and travel_season in details[\"season\"]:\n",
        "      if activities:  # Check if activities are specified\n",
        "        user_activities = set(activities.split(\",\"))\n",
        "        destination_activities = set(details[\"activities\"])\n",
        "        if user_activities.intersection(destination_activities):\n",
        "          recommendations.append(destination)\n",
        "      else:  # If no activities specified, recommend based on budget and season\n",
        "        recommendations.append(destination)\n",
        "\n",
        "  if recommendations:\n",
        "    print(\"\\nRecommended destinations:\")\n",
        "    for destination in recommendations:\n",
        "      print(destination)\n",
        "  else:\n",
        "    print(\"\\nNo matching destinations found.\")\n",
        "\n",
        "def main():\n",
        "  \"\"\"Main function to run the travel planner.\"\"\"\n",
        "\n",
        "  budget, activities, travel_season = get_user_preferences()\n",
        "  recommend_destinations(budget, activities, travel_season)"
      ],
      "metadata": {
        "id": "ekdY4Cue4HGL"
      },
      "execution_count": null,
      "outputs": []
    },
    {
      "cell_type": "markdown",
      "source": [
        "4. Advanced Features (Optional for Bonus Marks)"
      ],
      "metadata": {
        "id": "_WpCwyKA6k5j"
      }
    },
    {
      "cell_type": "markdown",
      "source": [
        "● Expense Tracking"
      ],
      "metadata": {
        "id": "1NfXfOwc7JV0"
      }
    },
    {
      "cell_type": "code",
      "source": [
        "import pandas as pd\n",
        "\n",
        "def get_travel_expenses():\n",
        "    \"\"\"Gets user input for travel expenses in different categories.\"\"\"\n",
        "    expenses = {}\n",
        "    categories = [\"Transport\", \"Accommodation\", \"Food\", \"Activities\", \"Miscellaneous\"]\n",
        "    for category in categories:\n",
        "        while True:\n",
        "            try:\n",
        "                expense = float(input(f\"Enter expense for {category}: \"))\n",
        "                expenses[category] = expense\n",
        "                break\n",
        "            except ValueError:\n",
        "                print(\"Invalid input. Please enter a number.\")\n",
        "    return expenses\n",
        "\n",
        "def calculate_travel_budget():\n",
        "    \"\"\"Calculates the total estimated cost and compares it with a user-defined budget.\"\"\"\n",
        "    expenses = get_travel_expenses()\n",
        "    total_cost = sum(expenses.values())\n",
        "    budget = float(input(\"Enter your budget: \"))\n",
        "    print(f\"\\nTotal estimated cost: ${total_cost:.2f}\")\n",
        "    print(f\"Your budget: ${budget:.2f}\")\n",
        "    if total_cost > budget:\n",
        "        print(\"\\nExpenses exceed budget by ${:.2f}\".format(total_cost - budget))\n",
        "    else:\n",
        "        print(\"\\nExpenses are within budget.\")\n",
        "    return expenses, budget\n",
        "\n",
        "def track_actual_expenses(budget):\n",
        "    \"\"\"Tracks actual expenses during the trip.\"\"\"\n",
        "    actual_expenses = {}\n",
        "    categories = [\"Transport\", \"Accommodation\", \"Food\", \"Activities\", \"Miscellaneous\"]\n",
        "    for category in categories:\n",
        "        while True:\n",
        "            try:\n",
        "                expense = float(input(f\"Enter actual expense for {category}: \"))\n",
        "                actual_expenses[category] = expense\n",
        "                break\n",
        "            except ValueError:\n",
        "                print(\"Invalid input. Please enter a number.\")\n",
        "    total_actual_cost = sum(actual_expenses.values())\n",
        "    print(f\"\\nTotal actual cost: ${total_actual_cost:.2f}\")\n",
        "    print(f\"Your budget: ${budget:.2f}\")\n",
        "    if total_actual_cost > budget:\n",
        "        print(\"\\nActual expenses exceed budget by ${:.2f}\".format(total_actual_cost - budget))\n",
        "    else:\n",
        "        print(\"\\nActual expenses are within budget.\")\n",
        "    return actual_expenses\n",
        "\n",
        "def generate_spending_report(expenses):\n",
        "    \"\"\"Generates a report on spending patterns by category.\"\"\"\n",
        "    df = pd.DataFrame.from_dict(expenses, orient='index', columns=['Expense'])\n",
        "    print(\"\\nSpending Report:\")\n",
        "    print(df)\n",
        "    print(\"\\nCategory with highest expense:\", df['Expense'].idxmax())\n",
        "\n",
        "def main():\n",
        "    \"\"\"Main function to run the travel planner.\"\"\"\n",
        "    expenses, budget = calculate_travel_budget()\n",
        "    actual_expenses = track_actual_expenses(budget)\n",
        "    generate_spending_report(actual_expenses)\n",
        "\n"
      ],
      "metadata": {
        "id": "kyQtB2MP7Zn4"
      },
      "execution_count": null,
      "outputs": []
    },
    {
      "cell_type": "markdown",
      "source": [
        "● Weather Updates"
      ],
      "metadata": {
        "id": "Qn04kvxFGPfG"
      }
    },
    {
      "cell_type": "code",
      "source": [
        "import pandas as pd\n",
        "\n",
        "def get_user_preferences():\n",
        "    \"\"\"Gets user preferences for destination recommendations.\"\"\"\n",
        "    budget = float(input(\"Enter your budget: \"))\n",
        "    activities = input(\"Enter preferred activities (comma-separated): \")\n",
        "    travel_season = input(\"Enter preferred travel season: \")\n",
        "    travel_dates = input(\"Enter travel dates (YYYY-MM-DD - YYYY-MM-DD): \")  # Get travel dates\n",
        "    return budget, activities, travel_season, travel_dates\n",
        "\n",
        "def recommend_destinations(budget, activities, travel_season, travel_dates):  # Add travel_dates\n",
        "    \"\"\"Recommends destinations based on user preferences and a predefined list.\"\"\"\n",
        "    destinations = {\n",
        "        \"Paris\": {\"cost\": 1500, \"activities\": [\"sightseeing\", \"museums\", \"shopping\"], \"season\": \"spring\"},\n",
        "        \"Tokyo\": {\"cost\": 1200, \"activities\": [\"culture\", \"food\", \"technology\"], \"season\": \"autumn\"},\n",
        "        \"Bali\": {\"cost\": 800, \"activities\": [\"beaches\", \"relaxation\", \"temples\"], \"season\": \"summer\"},\n",
        "        \"New York City\": {\"cost\": 2000, \"activities\": [\"entertainment\", \"shopping\", \"food\"], \"season\": \"any\"},\n",
        "        # Add more destinations here\n",
        "    }\n",
        "    recommendations = []\n",
        "    for destination, details in destinations.items():\n",
        "        if details[\"cost\"] <= budget and travel_season in details[\"season\"]:\n",
        "            if activities:\n",
        "                user_activities = set(activities.split(\",\"))\n",
        "                destination_activities = set(details[\"activities\"])\n",
        "                if user_activities.intersection(destination_activities):\n",
        "                    recommendations.append(destination)\n",
        "            else:\n",
        "                recommendations.append(destination)\n",
        "    if recommendations:\n",
        "        print(\"\\nRecommended destinations:\")\n",
        "        for destination in recommendations:\n",
        "            print(destination)\n",
        "            # Display mock weather data based on destination and travel dates\n",
        "            print(f\"Expected weather for {destination} during {travel_dates}: Sunny, 25°C\")  # Mock data\n",
        "    else:\n",
        "        print(\"\\nNo matching destinations found.\")\n",
        "\n",
        "def main():\n",
        "    \"\"\"Main function to run the travel planner.\"\"\"\n",
        "    budget, activities, travel_season, travel_dates = get_user_preferences()  # Get travel dates\n",
        "    recommend_destinations(budget, activities, travel_season, travel_dates)  # Pass travel_dates\n",
        "\n"
      ],
      "metadata": {
        "id": "PCksuUOGGxA2"
      },
      "execution_count": null,
      "outputs": []
    },
    {
      "cell_type": "markdown",
      "source": [
        "● Travel Tips"
      ],
      "metadata": {
        "id": "HAIrkmj2G8ny"
      }
    },
    {
      "cell_type": "code",
      "source": [
        "import pandas as pd\n",
        "\n",
        "def get_user_preferences():\n",
        "    \"\"\"Gets user preferences for destination recommendations.\"\"\"\n",
        "    budget = float(input(\"Enter your budget: \"))\n",
        "    activities = input(\"Enter preferred activities (comma-separated): \")\n",
        "    travel_season = input(\"Enter preferred travel season: \")\n",
        "    travel_dates = input(\"Enter travel dates (YYYY-MM-DD - YYYY-MM-DD): \")  # Get travel dates\n",
        "    return budget, activities, travel_season, travel_dates\n",
        "\n",
        "def recommend_destinations(budget, activities, travel_season, travel_dates):  # Add travel_dates\n",
        "    \"\"\"Recommends destinations based on user preferences and a predefined list.\"\"\"\n",
        "    destinations = {\n",
        "        \"Paris\": {\"cost\": 1500, \"activities\": [\"sightseeing\", \"museums\", \"shopping\"], \"season\": \"spring\",\n",
        "                  \"tips\": [\"Pack comfortable shoes for walking.\", \"Be aware of pickpockets in crowded areas.\",\n",
        "                           \"Learn basic French phrases.\"]},\n",
        "        \"Tokyo\": {\"cost\": 1200, \"activities\": [\"culture\", \"food\", \"technology\"], \"season\": \"autumn\",\n",
        "                  \"tips\": [\"Carry cash as some places may not accept cards.\", \"Respect local customs and etiquette.\",\n",
        "                           \"Download a translation app.\"]},\n",
        "        \"Bali\": {\"cost\": 800, \"activities\": [\"beaches\", \"relaxation\", \"temples\"], \"season\": \"summer\",\n",
        "                 \"tips\": [\"Pack light clothing and swimwear.\", \"Stay hydrated and use sunscreen.\",\n",
        "                          \"Be mindful of cultural sensitivities.\"]},\n",
        "        \"New York City\": {\"cost\": 2000, \"activities\": [\"entertainment\", \"shopping\", \"food\"], \"season\": \"any\",\n",
        "                         \"tips\": [\"Use public transportation to get around.\", \"Book accommodations in advance.\",\n",
        "                                  \"Tip service staff generously.\"]},\n",
        "        # Add more destinations here\n",
        "    }\n",
        "    recommendations = []\n",
        "    for destination, details in destinations.items():\n",
        "        if details[\"cost\"] <= budget and travel_season in details[\"season\"]:\n",
        "            if activities:\n",
        "                user_activities = set(activities.split(\",\"))\n",
        "                destination_activities = set(details[\"activities\"])\n",
        "                if user_activities.intersection(destination_activities):\n",
        "                    recommendations.append(destination)\n",
        "            else:\n",
        "                recommendations.append(destination)\n",
        "    if recommendations:\n",
        "        print(\"\\nRecommended destinations:\")\n",
        "        for destination in recommendations:\n",
        "            print(destination)\n",
        "            # Display mock weather data based on destination and travel dates\n",
        "            print(f\"Expected weather for {destination} during {travel_dates}: Sunny, 25°C\")  # Mock data\n",
        "            print(\"Tips for your trip:\")  # Print tips for the destination\n",
        "            for tip in destinations[destination][\"tips\"]:\n",
        "                print(\"- \" + tip)\n",
        "    else:\n",
        "        print(\"\\nNo matching destinations found.\")\n",
        "\n",
        "def main():\n",
        "    \"\"\"Main function to run the travel planner.\"\"\"\n",
        "    budget, activities, travel_season, travel_dates = get_user_preferences()  # Get travel dates\n",
        "    recommend_destinations(budget, activities, travel_season, travel_dates)  # Pass travel_dates\n"
      ],
      "metadata": {
        "id": "IzQXfVrEJlrQ"
      },
      "execution_count": null,
      "outputs": []
    },
    {
      "cell_type": "markdown",
      "source": [
        "● Currency Conversion"
      ],
      "metadata": {
        "id": "0yFbg8JaJ3DK"
      }
    },
    {
      "cell_type": "code",
      "source": [
        "import pandas as pd\n",
        "\n",
        "def get_travel_expenses():\n",
        "    \"\"\"Gets user input for travel expenses in different categories.\"\"\"\n",
        "    expenses = {}\n",
        "    categories = [\"Transport\", \"Accommodation\", \"Food\", \"Activities\", \"Miscellaneous\"]\n",
        "    for category in categories:\n",
        "        while True:\n",
        "            try:\n",
        "                expense = float(input(f\"Enter expense for {category}: \"))\n",
        "                expenses[category] = expense\n",
        "                break\n",
        "            except ValueError:\n",
        "                print(\"Invalid input. Please enter a number.\")\n",
        "    return expenses\n",
        "\n",
        "def calculate_travel_budget():\n",
        "    \"\"\"Calculates the total estimated cost and compares it with a user-defined budget.\"\"\"\n",
        "    expenses = get_travel_expenses()\n",
        "    total_cost = sum(expenses.values())\n",
        "    budget = float(input(\"Enter your budget: \"))\n",
        "    print(f\"\\nTotal estimated cost: ${total_cost:.2f}\")\n",
        "    print(f\"Your budget: ${budget:.2f}\")\n",
        "    if total_cost > budget:\n",
        "        print(\"\\nExpenses exceed budget by ${:.2f}\".format(total_cost - budget))\n",
        "    else:\n",
        "        print(\"\\nExpenses are within budget.\")\n",
        "    return expenses, budget\n",
        "\n",
        "def track_actual_expenses(budget):\n",
        "    \"\"\"Tracks actual expenses during the trip.\"\"\"\n",
        "    actual_expenses = {}\n",
        "    categories = [\"Transport\", \"Accommodation\", \"Food\", \"Activities\", \"Miscellaneous\"]\n",
        "    for category in categories:\n",
        "        while True:\n",
        "            try:\n",
        "                expense = float(input(f\"Enter actual expense for {category}: \"))\n",
        "                actual_expenses[category] = expense\n",
        "                break\n",
        "            except ValueError:\n",
        "                print(\"Invalid input. Please enter a number.\")\n",
        "    total_actual_cost = sum(actual_expenses.values())\n",
        "    print(f\"\\nTotal actual cost: ${total_actual_cost:.2f}\")\n",
        "    print(f\"Your budget: ${budget:.2f}\")\n",
        "    if total_actual_cost > budget:\n",
        "        print(\"\\nActual expenses exceed budget by ${:.2f}\".format(total_actual_cost - budget))\n",
        "    else:\n",
        "        print(\"\\nActual expenses are within budget.\")\n",
        "    return actual_expenses\n",
        "\n",
        "def generate_spending_report(expenses):\n",
        "    \"\"\"Generates a report on spending patterns by category.\"\"\"\n",
        "    df = pd.DataFrame.from_dict(expenses, orient='index', columns=['Expense'])\n",
        "    print(\"\\nSpending Report:\")\n",
        "    print(df)\n",
        "    print(\"\\nCategory with highest expense:\", df['Expense'].idxmax())\n",
        "\n",
        "def convert_currency(amount, from_currency, to_currency):\n",
        "    \"\"\"Converts an amount from one currency to another using predefined rates.\"\"\"\n",
        "    # Predefined currency conversion rates (replace with actual rates)\n",
        "    conversion_rates = {\n",
        "        \"USD\": {\"EUR\": 0.85, \"JPY\": 110.00, \"GBP\": 0.73},\n",
        "        \"EUR\": {\"USD\": 1.18, \"JPY\": 129.41, \"GBP\": 0.86},\n",
        "        \"JPY\": {\"USD\": 0.0091, \"EUR\": 0.0077, \"GBP\": 0.0064},\n",
        "        \"GBP\": {\"USD\": 1.37, \"EUR\": 1.16, \"JPY\": 156.25}\n",
        "    }\n",
        "    # Get the conversion rate\n",
        "    rate = conversion_rates.get(from_currency, {}).get(to_currency)\n",
        "    # If the rate is found, perform the conversion\n",
        "    if rate:\n",
        "        converted_amount = amount * rate\n",
        "        return converted_amount\n",
        "    else:\n",
        "        print(\"Conversion rate not found for these currencies.\")\n",
        "        return None\n",
        "\n",
        "def main():\n",
        "    \"\"\"Main function to run the travel planner.\"\"\"\n",
        "    expenses, budget = calculate_travel_budget()\n",
        "    actual_expenses = track_actual_expenses(budget)\n",
        "    generate_spending_report(actual_expenses)\n",
        "\n",
        "    # Currency conversion\n",
        "    amount = float(input(\"Enter the amount to convert: \"))\n",
        "    from_currency = input(\"Enter the original currency (e.g., USD, EUR, JPY, GBP): \").upper()\n",
        "    to_currency = input(\"Enter the target currency (e.g., USD, EUR, JPY, GBP): \").upper()\n",
        "\n",
        "    converted_amount = convert_currency(amount, from_currency, to_currency)\n",
        "    if converted_amount is not None:\n",
        "        print(f\"{amount} {from_currency} is equal to {converted_amount:.2f} {to_currency}\")"
      ],
      "metadata": {
        "id": "yZGjYWu0LRHL"
      },
      "execution_count": null,
      "outputs": []
    },
    {
      "cell_type": "markdown",
      "source": [
        "5. User Interface"
      ],
      "metadata": {
        "id": "QMQ7qaWOLcAz"
      }
    },
    {
      "cell_type": "code",
      "source": [
        "import pandas as pd\n",
        "\n",
        "# ... (Existing functions: add_trip, display_trips,\n",
        "#      get_travel_expenses, calculate_travel_budget,\n",
        "#      track_actual_expenses, generate_spending_report,\n",
        "#      get_user_preferences, recommend_destinations,\n",
        "#      convert_currency) ...\n",
        "\n",
        "\n",
        "def main():\n",
        "    \"\"\"Main function to run the travel planner with a menu.\"\"\"\n",
        "\n",
        "    path = \"/content/drive/MyDrive/Dataset/1_Travel_Planner_and_Budget_Manager.csv\"\n",
        "\n",
        "    try:\n",
        "        df = pd.read_csv(path)\n",
        "    except FileNotFoundError:\n",
        "        df = pd.DataFrame(columns=['Destination', 'Start Date', 'End Date', 'Activities', 'Accommodation', 'Transport'])\n",
        "\n",
        "    while True:\n",
        "        print(\"\\nTravel Planner Menu:\")\n",
        "        print(\"1. Add a new trip\")\n",
        "        print(\"2. View planned trips\")\n",
        "        print(\"3. Edit a trip\")  # New option\n",
        "        print(\"4. Manage budget\")\n",
        "        print(\"5. Get destination suggestions\")\n",
        "        print(\"6. Currency Conversion\") # New option\n",
        "        print(\"7. Exit\")\n",
        "\n",
        "        choice = input(\"Enter your choice: \")\n",
        "\n",
        "        if choice == '1':\n",
        "            df = add_trip(df, path)\n",
        "        elif choice == '2':\n",
        "            display_trips(df)\n",
        "        elif choice == '3':\n",
        "            # Call edit_trip function (to be implemented)\n",
        "            print(\"Edit trip functionality coming soon!\")\n",
        "        elif choice == '4':\n",
        "            expenses, budget = calculate_travel_budget()\n",
        "            actual_expenses = track_actual_expenses(budget)\n",
        "            generate_spending_report(actual_expenses)\n",
        "        elif choice == '5':\n",
        "            budget, activities, travel_season, travel_dates = get_user_preferences()\n",
        "            recommend_destinations(budget, activities, travel_season, travel_dates)\n",
        "        elif choice == '6':\n",
        "            amount = float(input(\"Enter the amount to convert: \"))\n",
        "            from_currency = input(\"Enter the original currency (e.g., USD, EUR, JPY, GBP): \").upper()\n",
        "            to_currency = input(\"Enter the target currency (e.g., USD, EUR, JPY, GBP): \").upper()\n",
        "\n",
        "            converted_amount = convert_currency(amount, from_currency, to_currency)\n",
        "            if converted_amount is not None:\n",
        "                print(f\"{amount} {from_currency} is equal to {converted_amount:.2f} {to_currency}\")\n",
        "        elif choice == '7':\n",
        "            break\n",
        "        else:\n",
        "            print(\"Invalid choice. Please try again.\")"
      ],
      "metadata": {
        "id": "HsKytdBHLhug"
      },
      "execution_count": null,
      "outputs": []
    }
  ]
}